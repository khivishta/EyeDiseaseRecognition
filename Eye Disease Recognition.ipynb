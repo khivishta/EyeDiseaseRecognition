{
 "cells": [
  {
   "cell_type": "markdown",
   "id": "344a25f8",
   "metadata": {},
   "source": [
    "## Notes\n",
    "\n",
    "- maybe we might need to crop the image to remove black borders on the side\n",
    "- normalize the image\n",
    "- use cross validation\n",
    "- cv2 to visualise images or plt\n"
   ]
  },
  {
   "cell_type": "markdown",
   "id": "0da0d585",
   "metadata": {},
   "source": [
    "# Eye disease Recognition\n",
    "\n",
    "### Introduction\n",
    "\n",
    "Using images from eyes fundus recognition an healthy eye versus a sick eye and determine what's the sickeness. \n",
    "\n",
    "### Dataset\n",
    "\n",
    "Ocular Disease Intelligent Recognition (ODIR) is a structured ophthalmic database of 5,000 patients with age, color fundus photographs from left and right eyes and doctors' diagnostic keywords from doctors.\n",
    "\n",
    "This dataset is meant to represent ‘‘real-life’’ set of patient information collected by Shanggong Medical Technology Co., Ltd. from different hospitals/medical centers in China. In these institutions, fundus images are captured by various cameras in the market, such as Canon, Zeiss and Kowa, resulting into varied image resolutions.\n",
    "Annotations were labeled by trained human readers with quality control management. They classify patient into eight labels including:\n",
    "\n",
    "- Normal (N),\n",
    "- Diabetes (D),\n",
    "- Glaucoma (G),\n",
    "- Cataract (C),\n",
    "- Age related Macular Degeneration (A),\n",
    "- Hypertension (H),\n",
    "- Pathological Myopia (M),\n",
    "- Other diseases/abnormalities (O)\n",
    "\n",
    "### Objectives\n",
    "\n",
    "Identify one or more diseases in a specific eye using an image of the fundus.\n",
    "Given an input of an eye fundus, the model will output a list of diseases."
   ]
  },
  {
   "cell_type": "code",
   "execution_count": 3,
   "id": "c6998d1d",
   "metadata": {},
   "outputs": [],
   "source": [
    "# imports\n",
    "import pandas as pd"
   ]
  },
  {
   "cell_type": "markdown",
   "id": "b34ecf0b",
   "metadata": {},
   "source": [
    "## Data exploratory analysis"
   ]
  },
  {
   "cell_type": "code",
   "execution_count": 6,
   "id": "75bc133d",
   "metadata": {},
   "outputs": [],
   "source": [
    "# load data\n",
    "df = pd.read_csv(\"../data/full_df.csv\")"
   ]
  },
  {
   "cell_type": "code",
   "execution_count": 12,
   "id": "c6262f2f",
   "metadata": {},
   "outputs": [
    {
     "data": {
      "text/html": [
       "<div>\n",
       "<style scoped>\n",
       "    .dataframe tbody tr th:only-of-type {\n",
       "        vertical-align: middle;\n",
       "    }\n",
       "\n",
       "    .dataframe tbody tr th {\n",
       "        vertical-align: top;\n",
       "    }\n",
       "\n",
       "    .dataframe thead th {\n",
       "        text-align: right;\n",
       "    }\n",
       "</style>\n",
       "<table border=\"1\" class=\"dataframe\">\n",
       "  <thead>\n",
       "    <tr style=\"text-align: right;\">\n",
       "      <th></th>\n",
       "      <th>ID</th>\n",
       "      <th>Patient Age</th>\n",
       "      <th>Patient Sex</th>\n",
       "      <th>Left-Fundus</th>\n",
       "      <th>Right-Fundus</th>\n",
       "      <th>Left-Diagnostic Keywords</th>\n",
       "      <th>Right-Diagnostic Keywords</th>\n",
       "      <th>N</th>\n",
       "      <th>D</th>\n",
       "      <th>G</th>\n",
       "      <th>C</th>\n",
       "      <th>A</th>\n",
       "      <th>H</th>\n",
       "      <th>M</th>\n",
       "      <th>O</th>\n",
       "      <th>filepath</th>\n",
       "      <th>labels</th>\n",
       "      <th>target</th>\n",
       "      <th>filename</th>\n",
       "    </tr>\n",
       "  </thead>\n",
       "  <tbody>\n",
       "    <tr>\n",
       "      <th>6372</th>\n",
       "      <td>4659</td>\n",
       "      <td>42</td>\n",
       "      <td>Male</td>\n",
       "      <td>4659_left.jpg</td>\n",
       "      <td>4659_right.jpg</td>\n",
       "      <td>mild nonproliferative retinopathy</td>\n",
       "      <td>intraretinal microvascular abnormality</td>\n",
       "      <td>0</td>\n",
       "      <td>1</td>\n",
       "      <td>0</td>\n",
       "      <td>0</td>\n",
       "      <td>0</td>\n",
       "      <td>0</td>\n",
       "      <td>0</td>\n",
       "      <td>1</td>\n",
       "      <td>../input/ocular-disease-recognition-odir5k/ODI...</td>\n",
       "      <td>['D']</td>\n",
       "      <td>[0, 1, 0, 0, 0, 0, 0, 0]</td>\n",
       "      <td>4659_left.jpg</td>\n",
       "    </tr>\n",
       "  </tbody>\n",
       "</table>\n",
       "</div>"
      ],
      "text/plain": [
       "        ID  Patient Age Patient Sex    Left-Fundus    Right-Fundus  \\\n",
       "6372  4659           42        Male  4659_left.jpg  4659_right.jpg   \n",
       "\n",
       "               Left-Diagnostic Keywords  \\\n",
       "6372  mild nonproliferative retinopathy   \n",
       "\n",
       "                   Right-Diagnostic Keywords  N  D  G  C  A  H  M  O  \\\n",
       "6372  intraretinal microvascular abnormality  0  1  0  0  0  0  0  1   \n",
       "\n",
       "                                               filepath labels  \\\n",
       "6372  ../input/ocular-disease-recognition-odir5k/ODI...  ['D']   \n",
       "\n",
       "                        target       filename  \n",
       "6372  [0, 1, 0, 0, 0, 0, 0, 0]  4659_left.jpg  "
      ]
     },
     "execution_count": 12,
     "metadata": {},
     "output_type": "execute_result"
    }
   ],
   "source": [
    "df[df['ID'] == 4659]"
   ]
  },
  {
   "cell_type": "markdown",
   "id": "d847a989",
   "metadata": {},
   "source": [
    "### decide which data are we going to use and why??\n",
    "\n",
    "In the dataset, each row corresponds to one patient. Each row contains one image for each eye.The diagnosis does not specify which eye has the disease although we can get this information from the columns labelled as `Left-Diagnostic Keywords` and `Right-Diagnostic Keywords`.\n",
    "\n",
    "Using the labels mentioned above, we need to convert the wordings into the labels with right abbreviations which are N,D,G,C,A,H,M,O.The following labels will each have a corresponding digit 0 or 1 whereby 0 means the specific disease is not present and 1 means the specific disease is present.\n",
    "\n",
    "The inputs to the model would be the images of both eyes and the output would be one or more of the following for each patient:\n",
    "\n",
    "- Normal (N),\n",
    "- Diabetes (D),\n",
    "- Glaucoma (G),\n",
    "- Cataract (C),\n",
    "- Age related Macular Degeneration (A),\n",
    "- Hypertension (H),\n",
    "- Pathological Myopia (M),\n",
    "- Other diseases/abnormalities (O)"
   ]
  },
  {
   "cell_type": "code",
   "execution_count": null,
   "id": "8a3e1f04",
   "metadata": {},
   "outputs": [],
   "source": []
  }
 ],
 "metadata": {
  "kernelspec": {
   "display_name": "Python 3 (ipykernel)",
   "language": "python",
   "name": "python3"
  },
  "language_info": {
   "codemirror_mode": {
    "name": "ipython",
    "version": 3
   },
   "file_extension": ".py",
   "mimetype": "text/x-python",
   "name": "python",
   "nbconvert_exporter": "python",
   "pygments_lexer": "ipython3",
   "version": "3.9.7"
  }
 },
 "nbformat": 4,
 "nbformat_minor": 5
}
